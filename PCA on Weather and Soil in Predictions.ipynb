{
 "cells": [
  {
   "cell_type": "code",
   "execution_count": 52,
   "metadata": {
    "collapsed": true
   },
   "outputs": [],
   "source": [
    "# Libraries\n",
    "import pandas as pd\n",
    "import numpy as np\n",
    "import matplotlib.pyplot as plt\n",
    "from sklearn.ensemble import GradientBoostingRegressor\n",
    "from sklearn.metrics import mean_squared_error, r2_score\n",
    "from sklearn.decomposition import PCA"
   ]
  },
  {
   "cell_type": "code",
   "execution_count": 53,
   "metadata": {
    "collapsed": true
   },
   "outputs": [],
   "source": [
    "# Read Data\n",
    "#genentic = pd.read_csv('Training Data/Training_Genetic_Dataset.csv')\n",
    "performance_train = pd.read_csv('Training Data/Training_Performance_Dataset.csv')\n",
    "soil_train = pd.read_csv('Training Data/Training_Soil_Dataset.csv') \n",
    "weather_train = pd.read_csv('Training Data/Training_Weather_Dataset.csv') \n",
    "performance_validation = pd.read_csv('Training Data/Validation_Performance_Dataset.csv')\n",
    "performance_test = pd.read_csv('Test Data/Test_Performance_Dataset.csv')\n",
    "soil_test = pd.read_csv('Test Data/Test_Soil_Dataset.csv')\n",
    "weather_test = pd.read_csv('Test Data/Test_Weather_Dataset_updated.csv')"
   ]
  },
  {
   "cell_type": "code",
   "execution_count": 54,
   "metadata": {},
   "outputs": [
    {
     "data": {
      "text/plain": [
       "False"
      ]
     },
     "execution_count": 54,
     "metadata": {},
     "output_type": "execute_result"
    }
   ],
   "source": [
    "soil_train.drop(['Latitude','Longitude'], axis = 1, inplace = True)\n",
    "weather_train.drop(['Latitude','Longitude'], axis = 1, inplace = True)\n",
    "perf = pd.merge(performance_train, soil_train, how='left', on='Location_ID')\n",
    "perf = pd.merge(perf, weather_train, how='left', on=['Location_ID','Year'])\n",
    "perf.isnull().any().any() # No missing values"
   ]
  },
  {
   "cell_type": "code",
   "execution_count": 55,
   "metadata": {},
   "outputs": [
    {
     "name": "stdout",
     "output_type": "stream",
     "text": [
      "(127258, 89)\n",
      "(21194, 89)\n"
     ]
    }
   ],
   "source": [
    "train_data = perf[perf.Year < 2016].reset_index(drop=True)\n",
    "validation_data = perf[perf.Year == 2016].reset_index(drop=True)\n",
    "print(train_data.shape)\n",
    "print(validation_data.shape)"
   ]
  },
  {
   "cell_type": "code",
   "execution_count": 56,
   "metadata": {},
   "outputs": [
    {
     "data": {
      "text/html": [
       "<div>\n",
       "<table border=\"1\" class=\"dataframe\">\n",
       "  <thead>\n",
       "    <tr style=\"text-align: right;\">\n",
       "      <th></th>\n",
       "      <th>Hybrid</th>\n",
       "      <th>Year</th>\n",
       "      <th>Maturity_Group</th>\n",
       "      <th>Location_ID</th>\n",
       "      <th>Latitude</th>\n",
       "      <th>Longitude</th>\n",
       "      <th>Yield</th>\n",
       "      <th>Check_Yield</th>\n",
       "      <th>Yield_Difference</th>\n",
       "      <th>s1</th>\n",
       "      <th>...</th>\n",
       "      <th>w_6_3</th>\n",
       "      <th>w_6_4</th>\n",
       "      <th>w_6_5</th>\n",
       "      <th>w_6_6</th>\n",
       "      <th>w_6_7</th>\n",
       "      <th>w_6_8</th>\n",
       "      <th>w_6_9</th>\n",
       "      <th>w_6_10</th>\n",
       "      <th>w_6_11</th>\n",
       "      <th>w_6_12</th>\n",
       "    </tr>\n",
       "  </thead>\n",
       "  <tbody>\n",
       "    <tr>\n",
       "      <th>0</th>\n",
       "      <td>P1001:P2030</td>\n",
       "      <td>2015</td>\n",
       "      <td>7</td>\n",
       "      <td>1796</td>\n",
       "      <td>32.87139</td>\n",
       "      <td>-82.22186</td>\n",
       "      <td>123.0466</td>\n",
       "      <td>120.2192</td>\n",
       "      <td>2.827433</td>\n",
       "      <td>17.5</td>\n",
       "      <td>...</td>\n",
       "      <td>2.31614</td>\n",
       "      <td>2.88061</td>\n",
       "      <td>1.97344</td>\n",
       "      <td>2.18712</td>\n",
       "      <td>1.91469</td>\n",
       "      <td>1.91488</td>\n",
       "      <td>2.36521</td>\n",
       "      <td>2.14285</td>\n",
       "      <td>2.69760</td>\n",
       "      <td>3.18961</td>\n",
       "    </tr>\n",
       "    <tr>\n",
       "      <th>1</th>\n",
       "      <td>P1001:P2030</td>\n",
       "      <td>2015</td>\n",
       "      <td>7</td>\n",
       "      <td>1797</td>\n",
       "      <td>31.51173</td>\n",
       "      <td>-83.54650</td>\n",
       "      <td>146.7642</td>\n",
       "      <td>174.3994</td>\n",
       "      <td>-27.635230</td>\n",
       "      <td>7.5</td>\n",
       "      <td>...</td>\n",
       "      <td>2.60048</td>\n",
       "      <td>3.37347</td>\n",
       "      <td>2.29799</td>\n",
       "      <td>2.36351</td>\n",
       "      <td>1.95420</td>\n",
       "      <td>2.21183</td>\n",
       "      <td>2.54894</td>\n",
       "      <td>2.68904</td>\n",
       "      <td>3.21849</td>\n",
       "      <td>3.33583</td>\n",
       "    </tr>\n",
       "    <tr>\n",
       "      <th>2</th>\n",
       "      <td>P1001:P2030</td>\n",
       "      <td>2015</td>\n",
       "      <td>7</td>\n",
       "      <td>1803</td>\n",
       "      <td>32.03686</td>\n",
       "      <td>-84.37093</td>\n",
       "      <td>141.7510</td>\n",
       "      <td>172.5574</td>\n",
       "      <td>-30.806430</td>\n",
       "      <td>19.8</td>\n",
       "      <td>...</td>\n",
       "      <td>2.40872</td>\n",
       "      <td>3.10122</td>\n",
       "      <td>2.21947</td>\n",
       "      <td>2.20672</td>\n",
       "      <td>1.88176</td>\n",
       "      <td>2.00333</td>\n",
       "      <td>2.42263</td>\n",
       "      <td>2.36745</td>\n",
       "      <td>2.94502</td>\n",
       "      <td>3.16100</td>\n",
       "    </tr>\n",
       "    <tr>\n",
       "      <th>3</th>\n",
       "      <td>P1001:P2030</td>\n",
       "      <td>2015</td>\n",
       "      <td>7</td>\n",
       "      <td>1807</td>\n",
       "      <td>34.50156</td>\n",
       "      <td>-79.25756</td>\n",
       "      <td>122.8936</td>\n",
       "      <td>130.9595</td>\n",
       "      <td>-8.065933</td>\n",
       "      <td>15.3</td>\n",
       "      <td>...</td>\n",
       "      <td>1.78054</td>\n",
       "      <td>2.17184</td>\n",
       "      <td>1.82686</td>\n",
       "      <td>2.25245</td>\n",
       "      <td>1.79615</td>\n",
       "      <td>1.61161</td>\n",
       "      <td>2.40540</td>\n",
       "      <td>1.89272</td>\n",
       "      <td>2.38507</td>\n",
       "      <td>3.16100</td>\n",
       "    </tr>\n",
       "    <tr>\n",
       "      <th>4</th>\n",
       "      <td>P1001:P2030</td>\n",
       "      <td>2015</td>\n",
       "      <td>7</td>\n",
       "      <td>1798</td>\n",
       "      <td>32.28644</td>\n",
       "      <td>-96.68565</td>\n",
       "      <td>86.9373</td>\n",
       "      <td>85.7655</td>\n",
       "      <td>1.171800</td>\n",
       "      <td>36.7</td>\n",
       "      <td>...</td>\n",
       "      <td>2.24010</td>\n",
       "      <td>2.91816</td>\n",
       "      <td>2.71677</td>\n",
       "      <td>2.74896</td>\n",
       "      <td>2.76421</td>\n",
       "      <td>2.78046</td>\n",
       "      <td>3.01399</td>\n",
       "      <td>3.00041</td>\n",
       "      <td>2.63249</td>\n",
       "      <td>2.33454</td>\n",
       "    </tr>\n",
       "  </tbody>\n",
       "</table>\n",
       "<p>5 rows × 89 columns</p>\n",
       "</div>"
      ],
      "text/plain": [
       "        Hybrid  Year  Maturity_Group  Location_ID  Latitude  Longitude  \\\n",
       "0  P1001:P2030  2015               7         1796  32.87139  -82.22186   \n",
       "1  P1001:P2030  2015               7         1797  31.51173  -83.54650   \n",
       "2  P1001:P2030  2015               7         1803  32.03686  -84.37093   \n",
       "3  P1001:P2030  2015               7         1807  34.50156  -79.25756   \n",
       "4  P1001:P2030  2015               7         1798  32.28644  -96.68565   \n",
       "\n",
       "      Yield  Check_Yield  Yield_Difference    s1   ...       w_6_3    w_6_4  \\\n",
       "0  123.0466     120.2192          2.827433  17.5   ...     2.31614  2.88061   \n",
       "1  146.7642     174.3994        -27.635230   7.5   ...     2.60048  3.37347   \n",
       "2  141.7510     172.5574        -30.806430  19.8   ...     2.40872  3.10122   \n",
       "3  122.8936     130.9595         -8.065933  15.3   ...     1.78054  2.17184   \n",
       "4   86.9373      85.7655          1.171800  36.7   ...     2.24010  2.91816   \n",
       "\n",
       "     w_6_5    w_6_6    w_6_7    w_6_8    w_6_9   w_6_10   w_6_11   w_6_12  \n",
       "0  1.97344  2.18712  1.91469  1.91488  2.36521  2.14285  2.69760  3.18961  \n",
       "1  2.29799  2.36351  1.95420  2.21183  2.54894  2.68904  3.21849  3.33583  \n",
       "2  2.21947  2.20672  1.88176  2.00333  2.42263  2.36745  2.94502  3.16100  \n",
       "3  1.82686  2.25245  1.79615  1.61161  2.40540  1.89272  2.38507  3.16100  \n",
       "4  2.71677  2.74896  2.76421  2.78046  3.01399  3.00041  2.63249  2.33454  \n",
       "\n",
       "[5 rows x 89 columns]"
      ]
     },
     "execution_count": 56,
     "metadata": {},
     "output_type": "execute_result"
    }
   ],
   "source": [
    "train_data.head()"
   ]
  },
  {
   "cell_type": "code",
   "execution_count": 57,
   "metadata": {},
   "outputs": [
    {
     "data": {
      "text/html": [
       "<div>\n",
       "<table border=\"1\" class=\"dataframe\">\n",
       "  <thead>\n",
       "    <tr style=\"text-align: right;\">\n",
       "      <th></th>\n",
       "      <th>Hybrid</th>\n",
       "      <th>Year</th>\n",
       "      <th>Maturity_Group</th>\n",
       "      <th>Location_ID</th>\n",
       "      <th>Latitude</th>\n",
       "      <th>Longitude</th>\n",
       "      <th>Yield</th>\n",
       "      <th>Check_Yield</th>\n",
       "      <th>Yield_Difference</th>\n",
       "      <th>s1</th>\n",
       "      <th>...</th>\n",
       "      <th>w_6_3</th>\n",
       "      <th>w_6_4</th>\n",
       "      <th>w_6_5</th>\n",
       "      <th>w_6_6</th>\n",
       "      <th>w_6_7</th>\n",
       "      <th>w_6_8</th>\n",
       "      <th>w_6_9</th>\n",
       "      <th>w_6_10</th>\n",
       "      <th>w_6_11</th>\n",
       "      <th>w_6_12</th>\n",
       "    </tr>\n",
       "  </thead>\n",
       "  <tbody>\n",
       "    <tr>\n",
       "      <th>0</th>\n",
       "      <td>P1000:P2030</td>\n",
       "      <td>2016</td>\n",
       "      <td>8</td>\n",
       "      <td>2113</td>\n",
       "      <td>36.29419</td>\n",
       "      <td>-76.31354</td>\n",
       "      <td>145.8371</td>\n",
       "      <td>162.24720</td>\n",
       "      <td>-16.410100</td>\n",
       "      <td>19.8</td>\n",
       "      <td>...</td>\n",
       "      <td>1.99544</td>\n",
       "      <td>1.27532</td>\n",
       "      <td>1.43426</td>\n",
       "      <td>1.31824</td>\n",
       "      <td>2.09249</td>\n",
       "      <td>2.34451</td>\n",
       "      <td>2.99677</td>\n",
       "      <td>2.64820</td>\n",
       "      <td>1.43011</td>\n",
       "      <td>1.81323</td>\n",
       "    </tr>\n",
       "    <tr>\n",
       "      <th>1</th>\n",
       "      <td>P1000:P2030</td>\n",
       "      <td>2016</td>\n",
       "      <td>8</td>\n",
       "      <td>2244</td>\n",
       "      <td>28.78775</td>\n",
       "      <td>-96.84418</td>\n",
       "      <td>89.2811</td>\n",
       "      <td>84.57587</td>\n",
       "      <td>4.705233</td>\n",
       "      <td>34.2</td>\n",
       "      <td>...</td>\n",
       "      <td>3.41712</td>\n",
       "      <td>3.46265</td>\n",
       "      <td>3.40252</td>\n",
       "      <td>3.16707</td>\n",
       "      <td>3.14616</td>\n",
       "      <td>3.07109</td>\n",
       "      <td>3.84650</td>\n",
       "      <td>3.97538</td>\n",
       "      <td>3.95207</td>\n",
       "      <td>3.28815</td>\n",
       "    </tr>\n",
       "    <tr>\n",
       "      <th>2</th>\n",
       "      <td>P1000:P2030</td>\n",
       "      <td>2016</td>\n",
       "      <td>8</td>\n",
       "      <td>2241</td>\n",
       "      <td>32.87210</td>\n",
       "      <td>-82.21630</td>\n",
       "      <td>166.3309</td>\n",
       "      <td>167.86330</td>\n",
       "      <td>-1.532433</td>\n",
       "      <td>15.2</td>\n",
       "      <td>...</td>\n",
       "      <td>2.47154</td>\n",
       "      <td>2.06388</td>\n",
       "      <td>1.81639</td>\n",
       "      <td>2.11526</td>\n",
       "      <td>2.08591</td>\n",
       "      <td>2.26869</td>\n",
       "      <td>2.54320</td>\n",
       "      <td>2.23983</td>\n",
       "      <td>1.70792</td>\n",
       "      <td>2.32818</td>\n",
       "    </tr>\n",
       "    <tr>\n",
       "      <th>3</th>\n",
       "      <td>P1000:P2030</td>\n",
       "      <td>2016</td>\n",
       "      <td>8</td>\n",
       "      <td>2247</td>\n",
       "      <td>29.21960</td>\n",
       "      <td>-95.99060</td>\n",
       "      <td>93.8248</td>\n",
       "      <td>95.90233</td>\n",
       "      <td>-2.077533</td>\n",
       "      <td>36.3</td>\n",
       "      <td>...</td>\n",
       "      <td>3.32124</td>\n",
       "      <td>3.45796</td>\n",
       "      <td>3.28736</td>\n",
       "      <td>3.12787</td>\n",
       "      <td>3.07372</td>\n",
       "      <td>3.05846</td>\n",
       "      <td>3.81779</td>\n",
       "      <td>3.95497</td>\n",
       "      <td>3.86526</td>\n",
       "      <td>3.31040</td>\n",
       "    </tr>\n",
       "    <tr>\n",
       "      <th>4</th>\n",
       "      <td>P1000:P2030</td>\n",
       "      <td>2016</td>\n",
       "      <td>8</td>\n",
       "      <td>2235</td>\n",
       "      <td>30.54635</td>\n",
       "      <td>-96.43408</td>\n",
       "      <td>98.8735</td>\n",
       "      <td>119.82100</td>\n",
       "      <td>-20.947500</td>\n",
       "      <td>32.2</td>\n",
       "      <td>...</td>\n",
       "      <td>2.74265</td>\n",
       "      <td>2.76796</td>\n",
       "      <td>2.65395</td>\n",
       "      <td>2.82082</td>\n",
       "      <td>2.79714</td>\n",
       "      <td>2.72360</td>\n",
       "      <td>3.29532</td>\n",
       "      <td>3.20460</td>\n",
       "      <td>3.20981</td>\n",
       "      <td>2.66830</td>\n",
       "    </tr>\n",
       "  </tbody>\n",
       "</table>\n",
       "<p>5 rows × 89 columns</p>\n",
       "</div>"
      ],
      "text/plain": [
       "        Hybrid  Year  Maturity_Group  Location_ID  Latitude  Longitude  \\\n",
       "0  P1000:P2030  2016               8         2113  36.29419  -76.31354   \n",
       "1  P1000:P2030  2016               8         2244  28.78775  -96.84418   \n",
       "2  P1000:P2030  2016               8         2241  32.87210  -82.21630   \n",
       "3  P1000:P2030  2016               8         2247  29.21960  -95.99060   \n",
       "4  P1000:P2030  2016               8         2235  30.54635  -96.43408   \n",
       "\n",
       "      Yield  Check_Yield  Yield_Difference    s1   ...       w_6_3    w_6_4  \\\n",
       "0  145.8371    162.24720        -16.410100  19.8   ...     1.99544  1.27532   \n",
       "1   89.2811     84.57587          4.705233  34.2   ...     3.41712  3.46265   \n",
       "2  166.3309    167.86330         -1.532433  15.2   ...     2.47154  2.06388   \n",
       "3   93.8248     95.90233         -2.077533  36.3   ...     3.32124  3.45796   \n",
       "4   98.8735    119.82100        -20.947500  32.2   ...     2.74265  2.76796   \n",
       "\n",
       "     w_6_5    w_6_6    w_6_7    w_6_8    w_6_9   w_6_10   w_6_11   w_6_12  \n",
       "0  1.43426  1.31824  2.09249  2.34451  2.99677  2.64820  1.43011  1.81323  \n",
       "1  3.40252  3.16707  3.14616  3.07109  3.84650  3.97538  3.95207  3.28815  \n",
       "2  1.81639  2.11526  2.08591  2.26869  2.54320  2.23983  1.70792  2.32818  \n",
       "3  3.28736  3.12787  3.07372  3.05846  3.81779  3.95497  3.86526  3.31040  \n",
       "4  2.65395  2.82082  2.79714  2.72360  3.29532  3.20460  3.20981  2.66830  \n",
       "\n",
       "[5 rows x 89 columns]"
      ]
     },
     "execution_count": 57,
     "metadata": {},
     "output_type": "execute_result"
    }
   ],
   "source": [
    "validation_data.head()"
   ]
  },
  {
   "cell_type": "markdown",
   "metadata": {},
   "source": [
    "## PCA on Weather"
   ]
  },
  {
   "cell_type": "code",
   "execution_count": 58,
   "metadata": {},
   "outputs": [
    {
     "data": {
      "image/png": "[encoded data removed]",
      "text/plain": [
       "<matplotlib.figure.Figure at 0x7f754ca636a0>"
      ]
     },
     "metadata": {},
     "output_type": "display_data"
    }
   ],
   "source": [
    "# Set up the data\n",
    "X_weather = train_data.loc[:,'w_1_1':'w_6_12']\n",
    "\n",
    "# Fit the \n",
    "pca = PCA().fit(X_weather)\n",
    "plt.plot(np.cumsum(pca.explained_variance_ratio_))\n",
    "plt.xlabel('number of components')\n",
    "plt.ylabel('cumulative explained variance')\n",
    "plt.show()"
   ]
  },
  {
   "cell_type": "code",
   "execution_count": 59,
   "metadata": {},
   "outputs": [
    {
     "data": {
      "text/plain": [
       "(127258, 25)"
      ]
     },
     "execution_count": 59,
     "metadata": {},
     "output_type": "execute_result"
    }
   ],
   "source": [
    "pca_model = PCA(n_components=25) # Hyperparameters\n",
    "pca_model.fit(X_weather) # Fit the data\n",
    "components = pca_model.transform(X_weather) # Principal Components\n",
    "components.shape"
   ]
  },
  {
   "cell_type": "code",
   "execution_count": 60,
   "metadata": {},
   "outputs": [
    {
     "data": {
      "text/html": [
       "<div>\n",
       "<table border=\"1\" class=\"dataframe\">\n",
       "  <thead>\n",
       "    <tr style=\"text-align: right;\">\n",
       "      <th></th>\n",
       "      <th>Weather_0</th>\n",
       "      <th>Weather_1</th>\n",
       "      <th>Weather_2</th>\n",
       "      <th>Weather_3</th>\n",
       "      <th>Weather_4</th>\n",
       "      <th>Weather_5</th>\n",
       "      <th>Weather_6</th>\n",
       "      <th>Weather_7</th>\n",
       "      <th>Weather_8</th>\n",
       "      <th>Weather_9</th>\n",
       "      <th>...</th>\n",
       "      <th>Weather_15</th>\n",
       "      <th>Weather_16</th>\n",
       "      <th>Weather_17</th>\n",
       "      <th>Weather_18</th>\n",
       "      <th>Weather_19</th>\n",
       "      <th>Weather_20</th>\n",
       "      <th>Weather_21</th>\n",
       "      <th>Weather_22</th>\n",
       "      <th>Weather_23</th>\n",
       "      <th>Weather_24</th>\n",
       "    </tr>\n",
       "  </thead>\n",
       "  <tbody>\n",
       "    <tr>\n",
       "      <th>0</th>\n",
       "      <td>15.804711</td>\n",
       "      <td>-7.075841</td>\n",
       "      <td>-0.322502</td>\n",
       "      <td>2.224051</td>\n",
       "      <td>-1.290587</td>\n",
       "      <td>0.511878</td>\n",
       "      <td>0.581647</td>\n",
       "      <td>0.351829</td>\n",
       "      <td>0.420631</td>\n",
       "      <td>1.346794</td>\n",
       "      <td>...</td>\n",
       "      <td>-2.410298</td>\n",
       "      <td>0.902906</td>\n",
       "      <td>0.767092</td>\n",
       "      <td>0.533088</td>\n",
       "      <td>-0.227388</td>\n",
       "      <td>0.159211</td>\n",
       "      <td>0.471623</td>\n",
       "      <td>0.231444</td>\n",
       "      <td>0.858861</td>\n",
       "      <td>-0.441019</td>\n",
       "    </tr>\n",
       "    <tr>\n",
       "      <th>1</th>\n",
       "      <td>17.347773</td>\n",
       "      <td>-7.673623</td>\n",
       "      <td>-1.057533</td>\n",
       "      <td>2.364734</td>\n",
       "      <td>-1.770893</td>\n",
       "      <td>0.156538</td>\n",
       "      <td>0.256205</td>\n",
       "      <td>0.730314</td>\n",
       "      <td>0.963029</td>\n",
       "      <td>0.046716</td>\n",
       "      <td>...</td>\n",
       "      <td>-1.814180</td>\n",
       "      <td>1.959462</td>\n",
       "      <td>0.392867</td>\n",
       "      <td>1.033821</td>\n",
       "      <td>-1.527795</td>\n",
       "      <td>-0.095889</td>\n",
       "      <td>0.134007</td>\n",
       "      <td>1.311053</td>\n",
       "      <td>0.857089</td>\n",
       "      <td>-0.803889</td>\n",
       "    </tr>\n",
       "    <tr>\n",
       "      <th>2</th>\n",
       "      <td>16.616942</td>\n",
       "      <td>-7.904347</td>\n",
       "      <td>-0.864540</td>\n",
       "      <td>3.013383</td>\n",
       "      <td>-1.829765</td>\n",
       "      <td>0.494814</td>\n",
       "      <td>1.824500</td>\n",
       "      <td>0.448038</td>\n",
       "      <td>-0.202982</td>\n",
       "      <td>0.780414</td>\n",
       "      <td>...</td>\n",
       "      <td>-3.046363</td>\n",
       "      <td>0.348856</td>\n",
       "      <td>0.386274</td>\n",
       "      <td>0.145024</td>\n",
       "      <td>-0.657268</td>\n",
       "      <td>1.508785</td>\n",
       "      <td>-1.562996</td>\n",
       "      <td>-0.439383</td>\n",
       "      <td>1.313463</td>\n",
       "      <td>-1.050378</td>\n",
       "    </tr>\n",
       "    <tr>\n",
       "      <th>3</th>\n",
       "      <td>13.514701</td>\n",
       "      <td>-7.091293</td>\n",
       "      <td>-0.716687</td>\n",
       "      <td>2.758248</td>\n",
       "      <td>-0.589067</td>\n",
       "      <td>-0.208848</td>\n",
       "      <td>0.091153</td>\n",
       "      <td>0.106709</td>\n",
       "      <td>0.299814</td>\n",
       "      <td>0.530773</td>\n",
       "      <td>...</td>\n",
       "      <td>-3.074473</td>\n",
       "      <td>1.976188</td>\n",
       "      <td>1.047629</td>\n",
       "      <td>-0.167470</td>\n",
       "      <td>1.764866</td>\n",
       "      <td>0.172444</td>\n",
       "      <td>1.226152</td>\n",
       "      <td>0.732714</td>\n",
       "      <td>0.601343</td>\n",
       "      <td>-0.077445</td>\n",
       "    </tr>\n",
       "    <tr>\n",
       "      <th>4</th>\n",
       "      <td>16.760708</td>\n",
       "      <td>-8.320798</td>\n",
       "      <td>-1.073313</td>\n",
       "      <td>-2.733781</td>\n",
       "      <td>2.110120</td>\n",
       "      <td>1.841458</td>\n",
       "      <td>-0.654421</td>\n",
       "      <td>-4.638687</td>\n",
       "      <td>-0.486418</td>\n",
       "      <td>-0.740931</td>\n",
       "      <td>...</td>\n",
       "      <td>-1.206548</td>\n",
       "      <td>0.545960</td>\n",
       "      <td>-0.441931</td>\n",
       "      <td>0.511811</td>\n",
       "      <td>3.542156</td>\n",
       "      <td>0.659255</td>\n",
       "      <td>1.271142</td>\n",
       "      <td>0.826421</td>\n",
       "      <td>0.359024</td>\n",
       "      <td>-1.030617</td>\n",
       "    </tr>\n",
       "  </tbody>\n",
       "</table>\n",
       "<p>5 rows × 25 columns</p>\n",
       "</div>"
      ],
      "text/plain": [
       "   Weather_0  Weather_1  Weather_2  Weather_3  Weather_4  Weather_5  \\\n",
       "0  15.804711  -7.075841  -0.322502   2.224051  -1.290587   0.511878   \n",
       "1  17.347773  -7.673623  -1.057533   2.364734  -1.770893   0.156538   \n",
       "2  16.616942  -7.904347  -0.864540   3.013383  -1.829765   0.494814   \n",
       "3  13.514701  -7.091293  -0.716687   2.758248  -0.589067  -0.208848   \n",
       "4  16.760708  -8.320798  -1.073313  -2.733781   2.110120   1.841458   \n",
       "\n",
       "   Weather_6  Weather_7  Weather_8  Weather_9     ...      Weather_15  \\\n",
       "0   0.581647   0.351829   0.420631   1.346794     ...       -2.410298   \n",
       "1   0.256205   0.730314   0.963029   0.046716     ...       -1.814180   \n",
       "2   1.824500   0.448038  -0.202982   0.780414     ...       -3.046363   \n",
       "3   0.091153   0.106709   0.299814   0.530773     ...       -3.074473   \n",
       "4  -0.654421  -4.638687  -0.486418  -0.740931     ...       -1.206548   \n",
       "\n",
       "   Weather_16  Weather_17  Weather_18  Weather_19  Weather_20  Weather_21  \\\n",
       "0    0.902906    0.767092    0.533088   -0.227388    0.159211    0.471623   \n",
       "1    1.959462    0.392867    1.033821   -1.527795   -0.095889    0.134007   \n",
       "2    0.348856    0.386274    0.145024   -0.657268    1.508785   -1.562996   \n",
       "3    1.976188    1.047629   -0.167470    1.764866    0.172444    1.226152   \n",
       "4    0.545960   -0.441931    0.511811    3.542156    0.659255    1.271142   \n",
       "\n",
       "   Weather_22  Weather_23  Weather_24  \n",
       "0    0.231444    0.858861   -0.441019  \n",
       "1    1.311053    0.857089   -0.803889  \n",
       "2   -0.439383    1.313463   -1.050378  \n",
       "3    0.732714    0.601343   -0.077445  \n",
       "4    0.826421    0.359024   -1.030617  \n",
       "\n",
       "[5 rows x 25 columns]"
      ]
     },
     "execution_count": 60,
     "metadata": {},
     "output_type": "execute_result"
    }
   ],
   "source": [
    "# Save the components to the train data frame\n",
    "components = pd.DataFrame(components)\n",
    "components = components.add_prefix('Weather_')\n",
    "components.head()"
   ]
  },
  {
   "cell_type": "code",
   "execution_count": 61,
   "metadata": {},
   "outputs": [
    {
     "data": {
      "text/html": [
       "<div>\n",
       "<table border=\"1\" class=\"dataframe\">\n",
       "  <thead>\n",
       "    <tr style=\"text-align: right;\">\n",
       "      <th></th>\n",
       "      <th>Hybrid</th>\n",
       "      <th>Year</th>\n",
       "      <th>Maturity_Group</th>\n",
       "      <th>Location_ID</th>\n",
       "      <th>Latitude</th>\n",
       "      <th>Longitude</th>\n",
       "      <th>Yield</th>\n",
       "      <th>Check_Yield</th>\n",
       "      <th>Yield_Difference</th>\n",
       "      <th>s1</th>\n",
       "      <th>...</th>\n",
       "      <th>Weather_15</th>\n",
       "      <th>Weather_16</th>\n",
       "      <th>Weather_17</th>\n",
       "      <th>Weather_18</th>\n",
       "      <th>Weather_19</th>\n",
       "      <th>Weather_20</th>\n",
       "      <th>Weather_21</th>\n",
       "      <th>Weather_22</th>\n",
       "      <th>Weather_23</th>\n",
       "      <th>Weather_24</th>\n",
       "    </tr>\n",
       "  </thead>\n",
       "  <tbody>\n",
       "    <tr>\n",
       "      <th>0</th>\n",
       "      <td>P1001:P2030</td>\n",
       "      <td>2015</td>\n",
       "      <td>7</td>\n",
       "      <td>1796</td>\n",
       "      <td>32.87139</td>\n",
       "      <td>-82.22186</td>\n",
       "      <td>123.0466</td>\n",
       "      <td>120.2192</td>\n",
       "      <td>2.827433</td>\n",
       "      <td>17.5</td>\n",
       "      <td>...</td>\n",
       "      <td>-2.410298</td>\n",
       "      <td>0.902906</td>\n",
       "      <td>0.767092</td>\n",
       "      <td>0.533088</td>\n",
       "      <td>-0.227388</td>\n",
       "      <td>0.159211</td>\n",
       "      <td>0.471623</td>\n",
       "      <td>0.231444</td>\n",
       "      <td>0.858861</td>\n",
       "      <td>-0.441019</td>\n",
       "    </tr>\n",
       "    <tr>\n",
       "      <th>1</th>\n",
       "      <td>P1001:P2030</td>\n",
       "      <td>2015</td>\n",
       "      <td>7</td>\n",
       "      <td>1797</td>\n",
       "      <td>31.51173</td>\n",
       "      <td>-83.54650</td>\n",
       "      <td>146.7642</td>\n",
       "      <td>174.3994</td>\n",
       "      <td>-27.635230</td>\n",
       "      <td>7.5</td>\n",
       "      <td>...</td>\n",
       "      <td>-1.814180</td>\n",
       "      <td>1.959462</td>\n",
       "      <td>0.392867</td>\n",
       "      <td>1.033821</td>\n",
       "      <td>-1.527795</td>\n",
       "      <td>-0.095889</td>\n",
       "      <td>0.134007</td>\n",
       "      <td>1.311053</td>\n",
       "      <td>0.857089</td>\n",
       "      <td>-0.803889</td>\n",
       "    </tr>\n",
       "    <tr>\n",
       "      <th>2</th>\n",
       "      <td>P1001:P2030</td>\n",
       "      <td>2015</td>\n",
       "      <td>7</td>\n",
       "      <td>1803</td>\n",
       "      <td>32.03686</td>\n",
       "      <td>-84.37093</td>\n",
       "      <td>141.7510</td>\n",
       "      <td>172.5574</td>\n",
       "      <td>-30.806430</td>\n",
       "      <td>19.8</td>\n",
       "      <td>...</td>\n",
       "      <td>-3.046363</td>\n",
       "      <td>0.348856</td>\n",
       "      <td>0.386274</td>\n",
       "      <td>0.145024</td>\n",
       "      <td>-0.657268</td>\n",
       "      <td>1.508785</td>\n",
       "      <td>-1.562996</td>\n",
       "      <td>-0.439383</td>\n",
       "      <td>1.313463</td>\n",
       "      <td>-1.050378</td>\n",
       "    </tr>\n",
       "    <tr>\n",
       "      <th>3</th>\n",
       "      <td>P1001:P2030</td>\n",
       "      <td>2015</td>\n",
       "      <td>7</td>\n",
       "      <td>1807</td>\n",
       "      <td>34.50156</td>\n",
       "      <td>-79.25756</td>\n",
       "      <td>122.8936</td>\n",
       "      <td>130.9595</td>\n",
       "      <td>-8.065933</td>\n",
       "      <td>15.3</td>\n",
       "      <td>...</td>\n",
       "      <td>-3.074473</td>\n",
       "      <td>1.976188</td>\n",
       "      <td>1.047629</td>\n",
       "      <td>-0.167470</td>\n",
       "      <td>1.764866</td>\n",
       "      <td>0.172444</td>\n",
       "      <td>1.226152</td>\n",
       "      <td>0.732714</td>\n",
       "      <td>0.601343</td>\n",
       "      <td>-0.077445</td>\n",
       "    </tr>\n",
       "    <tr>\n",
       "      <th>4</th>\n",
       "      <td>P1001:P2030</td>\n",
       "      <td>2015</td>\n",
       "      <td>7</td>\n",
       "      <td>1798</td>\n",
       "      <td>32.28644</td>\n",
       "      <td>-96.68565</td>\n",
       "      <td>86.9373</td>\n",
       "      <td>85.7655</td>\n",
       "      <td>1.171800</td>\n",
       "      <td>36.7</td>\n",
       "      <td>...</td>\n",
       "      <td>-1.206548</td>\n",
       "      <td>0.545960</td>\n",
       "      <td>-0.441931</td>\n",
       "      <td>0.511811</td>\n",
       "      <td>3.542156</td>\n",
       "      <td>0.659255</td>\n",
       "      <td>1.271142</td>\n",
       "      <td>0.826421</td>\n",
       "      <td>0.359024</td>\n",
       "      <td>-1.030617</td>\n",
       "    </tr>\n",
       "  </tbody>\n",
       "</table>\n",
       "<p>5 rows × 114 columns</p>\n",
       "</div>"
      ],
      "text/plain": [
       "        Hybrid  Year  Maturity_Group  Location_ID  Latitude  Longitude  \\\n",
       "0  P1001:P2030  2015               7         1796  32.87139  -82.22186   \n",
       "1  P1001:P2030  2015               7         1797  31.51173  -83.54650   \n",
       "2  P1001:P2030  2015               7         1803  32.03686  -84.37093   \n",
       "3  P1001:P2030  2015               7         1807  34.50156  -79.25756   \n",
       "4  P1001:P2030  2015               7         1798  32.28644  -96.68565   \n",
       "\n",
       "      Yield  Check_Yield  Yield_Difference    s1     ...      Weather_15  \\\n",
       "0  123.0466     120.2192          2.827433  17.5     ...       -2.410298   \n",
       "1  146.7642     174.3994        -27.635230   7.5     ...       -1.814180   \n",
       "2  141.7510     172.5574        -30.806430  19.8     ...       -3.046363   \n",
       "3  122.8936     130.9595         -8.065933  15.3     ...       -3.074473   \n",
       "4   86.9373      85.7655          1.171800  36.7     ...       -1.206548   \n",
       "\n",
       "   Weather_16  Weather_17  Weather_18  Weather_19  Weather_20  Weather_21  \\\n",
       "0    0.902906    0.767092    0.533088   -0.227388    0.159211    0.471623   \n",
       "1    1.959462    0.392867    1.033821   -1.527795   -0.095889    0.134007   \n",
       "2    0.348856    0.386274    0.145024   -0.657268    1.508785   -1.562996   \n",
       "3    1.976188    1.047629   -0.167470    1.764866    0.172444    1.226152   \n",
       "4    0.545960   -0.441931    0.511811    3.542156    0.659255    1.271142   \n",
       "\n",
       "   Weather_22  Weather_23  Weather_24  \n",
       "0    0.231444    0.858861   -0.441019  \n",
       "1    1.311053    0.857089   -0.803889  \n",
       "2   -0.439383    1.313463   -1.050378  \n",
       "3    0.732714    0.601343   -0.077445  \n",
       "4    0.826421    0.359024   -1.030617  \n",
       "\n",
       "[5 rows x 114 columns]"
      ]
     },
     "execution_count": 61,
     "metadata": {},
     "output_type": "execute_result"
    }
   ],
   "source": [
    "train_data = pd.merge(train_data, components, left_index=True, right_index=True)\n",
    "train_data.head()"
   ]
  },
  {
   "cell_type": "code",
   "execution_count": 62,
   "metadata": {
    "collapsed": true
   },
   "outputs": [],
   "source": [
    "# Principal Components for the Validation Set\n",
    "X_weather = validation_data.loc[:,'w_1_1':'w_6_12']\n",
    "pca_model.fit(X_weather) # Fit the data\n",
    "components = pca_model.transform(X_weather) # Principal Components\n",
    "components = pd.DataFrame(components) # \n",
    "components = components.add_prefix('Weather_')\n",
    "validation_data = pd.merge(validation_data, components, left_index=True, right_index=True)"
   ]
  },
  {
   "cell_type": "markdown",
   "metadata": {},
   "source": [
    "## PCA on Soil"
   ]
  },
  {
   "cell_type": "code",
   "execution_count": 63,
   "metadata": {},
   "outputs": [
    {
     "data": {
      "image/png": "[encoded data removed]",
      "text/plain": [
       "<matplotlib.figure.Figure at 0x7f754c820390>"
      ]
     },
     "metadata": {},
     "output_type": "display_data"
    }
   ],
   "source": [
    "# Set up the data\n",
    "X_soil = train_data.loc[:,'s1':'s6']\n",
    "\n",
    "# Fit the \n",
    "pca = PCA().fit(X_soil)\n",
    "plt.plot(np.cumsum(pca.explained_variance_ratio_))\n",
    "plt.xlabel('number of components')\n",
    "plt.ylabel('cumulative explained variance')\n",
    "plt.show()"
   ]
  },
  {
   "cell_type": "code",
   "execution_count": 64,
   "metadata": {},
   "outputs": [
    {
     "data": {
      "text/plain": [
       "(127258, 2)"
      ]
     },
     "execution_count": 64,
     "metadata": {},
     "output_type": "execute_result"
    }
   ],
   "source": [
    "pca_model = PCA(n_components=2) # Hyperparameters\n",
    "pca_model.fit(X_soil) # Fit the data\n",
    "components = pca_model.transform(X_soil) # Principal Components\n",
    "components.shape"
   ]
  },
  {
   "cell_type": "code",
   "execution_count": 65,
   "metadata": {},
   "outputs": [
    {
     "data": {
      "image/png": "[encoded data removed]",
      "text/plain": [
       "<matplotlib.figure.Figure at 0x7f754c85b4e0>"
      ]
     },
     "metadata": {},
     "output_type": "display_data"
    }
   ],
   "source": [
    "components = pd.DataFrame(components)\n",
    "components = components.add_prefix('Soil_')\n",
    "plt.scatter(components.Soil_0, components.Soil_1, alpha=0.01)\n",
    "plt.show()"
   ]
  },
  {
   "cell_type": "code",
   "execution_count": 66,
   "metadata": {},
   "outputs": [
    {
     "data": {
      "text/html": [
       "<div>\n",
       "<table border=\"1\" class=\"dataframe\">\n",
       "  <thead>\n",
       "    <tr style=\"text-align: right;\">\n",
       "      <th></th>\n",
       "      <th>Soil_0</th>\n",
       "      <th>Soil_1</th>\n",
       "    </tr>\n",
       "  </thead>\n",
       "  <tbody>\n",
       "    <tr>\n",
       "      <th>0</th>\n",
       "      <td>40.457864</td>\n",
       "      <td>-1.468410</td>\n",
       "    </tr>\n",
       "    <tr>\n",
       "      <th>1</th>\n",
       "      <td>66.232548</td>\n",
       "      <td>-9.993678</td>\n",
       "    </tr>\n",
       "    <tr>\n",
       "      <th>2</th>\n",
       "      <td>41.638178</td>\n",
       "      <td>1.808563</td>\n",
       "    </tr>\n",
       "    <tr>\n",
       "      <th>3</th>\n",
       "      <td>30.879467</td>\n",
       "      <td>-5.381108</td>\n",
       "    </tr>\n",
       "    <tr>\n",
       "      <th>4</th>\n",
       "      <td>1.046103</td>\n",
       "      <td>16.452443</td>\n",
       "    </tr>\n",
       "  </tbody>\n",
       "</table>\n",
       "</div>"
      ],
      "text/plain": [
       "      Soil_0     Soil_1\n",
       "0  40.457864  -1.468410\n",
       "1  66.232548  -9.993678\n",
       "2  41.638178   1.808563\n",
       "3  30.879467  -5.381108\n",
       "4   1.046103  16.452443"
      ]
     },
     "execution_count": 66,
     "metadata": {},
     "output_type": "execute_result"
    }
   ],
   "source": [
    "components.reset_index()\n",
    "components.head()"
   ]
  },
  {
   "cell_type": "code",
   "execution_count": 67,
   "metadata": {},
   "outputs": [
    {
     "data": {
      "text/plain": [
       "Index(['Hybrid', 'Year', 'Maturity_Group', 'Location_ID', 'Latitude',\n",
       "       'Longitude', 'Yield', 'Check_Yield', 'Yield_Difference', 's1',\n",
       "       ...\n",
       "       'Weather_17', 'Weather_18', 'Weather_19', 'Weather_20', 'Weather_21',\n",
       "       'Weather_22', 'Weather_23', 'Weather_24', 'Soil_0', 'Soil_1'],\n",
       "      dtype='object', length=116)"
      ]
     },
     "execution_count": 67,
     "metadata": {},
     "output_type": "execute_result"
    }
   ],
   "source": [
    "train_data = pd.merge(train_data, components, left_index=True, right_index=True)\n",
    "train_data.columns"
   ]
  },
  {
   "cell_type": "code",
   "execution_count": 68,
   "metadata": {
    "collapsed": true
   },
   "outputs": [],
   "source": [
    "# Principal Components for the Validation Set\n",
    "X_weather = validation_data.loc[:,'s1':'s6']\n",
    "pca_model.fit(X_soil) # Fit the data\n",
    "components = pca_model.transform(X_soil) # Principal Components\n",
    "components = pd.DataFrame(components) # \n",
    "components = components.add_prefix('Soil_')\n",
    "validation_data = pd.merge(validation_data, components, left_index=True, right_index=True)"
   ]
  },
  {
   "cell_type": "markdown",
   "metadata": {},
   "source": [
    "## Yield Prediction"
   ]
  },
  {
   "cell_type": "code",
   "execution_count": 84,
   "metadata": {},
   "outputs": [
    {
     "name": "stdout",
     "output_type": "stream",
     "text": [
      "(127258, 27)\n",
      "(127258,)\n",
      "(21194, 27)\n",
      "(21194,)\n"
     ]
    }
   ],
   "source": [
    "# Set-up the predictors and the response  \n",
    "X_train = train_data.loc[:,'Weather_0':'Soil_1']\n",
    "y_train = train_data.loc[:,'Yield']\n",
    "X_validate = validation_data.loc[:,'Weather_0':'Soil_1']\n",
    "y_validate = validation_data.loc[:,'Yield']\n",
    "\n",
    "print(X_train.shape)\n",
    "print(y_train.shape)\n",
    "print(X_validate.shape)\n",
    "print(y_validate.shape)"
   ]
  },
  {
   "cell_type": "code",
   "execution_count": 85,
   "metadata": {},
   "outputs": [
    {
     "name": "stdout",
     "output_type": "stream",
     "text": [
      "MSE:  609.322777755\n",
      "R-squared:  -0.237290873089\n"
     ]
    }
   ],
   "source": [
    "# Fit a Model\n",
    "bst_tree_y = GradientBoostingRegressor(n_estimators=200, max_depth=6, learning_rate=0.1, loss='lad')\n",
    "bst_tree_y.fit(X_train, y_train)\n",
    "yield_pred = bst_tree_y.predict(X_validate)\n",
    "\n",
    "# Evaluate Fit\n",
    "mse = mean_squared_error(y_validate, yield_pred)\n",
    "r2 = r2_score(y_validate, yield_pred)\n",
    "print('MSE: ',mse)\n",
    "print('R-squared: ',r2)"
   ]
  },
  {
   "cell_type": "code",
   "execution_count": 86,
   "metadata": {},
   "outputs": [
    {
     "name": "stdout",
     "output_type": "stream",
     "text": [
      "MSE:  232.836778392\n",
      "R-squared:  0.709552843055\n"
     ]
    }
   ],
   "source": [
    "mse = mean_squared_error(y_train, bst_tree_y.predict(X_train))\n",
    "r2 = r2_score(y_train, bst_tree_y.predict(X_train))\n",
    "print('MSE: ',mse)\n",
    "print('R-squared: ',r2)"
   ]
  },
  {
   "cell_type": "markdown",
   "metadata": {},
   "source": [
    "## Check_Yield Prediction"
   ]
  },
  {
   "cell_type": "code",
   "execution_count": 71,
   "metadata": {},
   "outputs": [
    {
     "name": "stdout",
     "output_type": "stream",
     "text": [
      "MSE:  547.84301864\n",
      "R-squared:  -0.826837610313\n"
     ]
    }
   ],
   "source": [
    "# Set-up the predictors and the response  \n",
    "X_train = train_data.loc[:,'Weather_0':'Soil_1']\n",
    "y_train = train_data.loc[:,'Check_Yield']\n",
    "X_validate = validation_data.loc[:,'Weather_0':'Soil_1']\n",
    "y_validate = validation_data.loc[:,'Check_Yield']\n",
    "\n",
    "# Fit a Model\n",
    "bst_tree_cy = GradientBoostingRegressor(n_estimators=500, max_depth=6, learning_rate=0.1, loss='huber', alpha=0.95)\n",
    "bst_tree_cy.fit(X_train, y_train)\n",
    "check_yield_pred = bst_tree_cy.predict(X_validate)\n",
    "\n",
    "# Evaluate Fit\n",
    "mse = mean_squared_error(y_validate, check_yield_pred)\n",
    "r2 = r2_score(y_validate, yield_pred)\n",
    "print('MSE: ',mse)\n",
    "print('R-squared: ',r2)"
   ]
  },
  {
   "cell_type": "code",
   "execution_count": 87,
   "metadata": {},
   "outputs": [
    {
     "data": {
      "text/plain": [
       "0.0"
      ]
     },
     "execution_count": 87,
     "metadata": {},
     "output_type": "execute_result"
    }
   ],
   "source": [
    "# R-squared if we just used the mean instead of a model\n",
    "round(r2_score(y_validate, pd.Series(np.full(21194,y_validate.mean()))))"
   ]
  },
  {
   "cell_type": "code",
   "execution_count": null,
   "metadata": {
    "collapsed": true
   },
   "outputs": [],
   "source": [
    "y_mean = train_data.loc[:,'Yield'].mean()\n",
    "cy_mean = train_data.loc[:,'Check_Yield'].mean()\n",
    "\n",
    "y_pred = pd.Series(np.full(21194,y_mean))\n",
    "cy_pred = pd.Series(np.full(21194,cy_mean))\n",
    "\n",
    "yd_pred = y_pred - cy_pred\n",
    "yd_true = train_data.loc[:,'Yield_Difference']\n",
    "round(r2_score(y_validate, pd.Series(np.full(21194,y_validate.mean()))))\n"
   ]
  }
 ],
 "metadata": {
  "anaconda-cloud": {},
  "kernelspec": {
   "display_name": "Python [default]",
   "language": "python",
   "name": "python3"
  },
  "language_info": {
   "codemirror_mode": {
    "name": "ipython",
    "version": 3
   },
   "file_extension": ".py",
   "mimetype": "text/x-python",
   "name": "python",
   "nbconvert_exporter": "python",
   "pygments_lexer": "ipython3",
   "version": "3.5.2"
  }
 },
 "nbformat": 4,
 "nbformat_minor": 2
}
